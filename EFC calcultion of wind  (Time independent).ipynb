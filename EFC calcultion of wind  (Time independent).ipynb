{
 "cells": [
  {
   "cell_type": "markdown",
   "metadata": {},
   "source": [
    "# 1. Capacity distribution for conventional generations\n",
    "\n"
   ]
  },
  {
   "cell_type": "markdown",
   "metadata": {},
   "source": [
    "Get the data for conventional genrators.\n",
    "\n",
    "Probability distribution (ProbDist)    Cumulative distribution (cumdis)     Expected energy output up to x (Eep), used for EEU calculation.\n"
   ]
  },
  {
   "cell_type": "code",
   "execution_count": 17,
   "metadata": {
    "scrolled": true
   },
   "outputs": [
    {
     "name": "stdout",
     "output_type": "stream",
     "text": [
      "Total capacity 59930.0\n",
      "Expected capacity 52236.06906528692\n",
      "SD 1738.8681620785815\n",
      "Length of ProbDist 59932\n",
      "1.0000000000000002\n"
     ]
    }
   ],
   "source": [
    "\n",
    "# from numpy import loadtxt\n",
    "# lines = loadtxt(\"I_conv.txt\", comments=\"#\", delimiter=\",\", unpack=False)\n",
    "\n",
    "convCap=0\n",
    "meanCap=0\n",
    "varCap =0\n",
    "\n",
    "######   read data\n",
    "ListofCap=[]\n",
    "ListofAva=[]\n",
    "\n",
    "text_file = open(\"GB_anonymised_conv.txt\", \"r\")\n",
    "# text_file = open(\"I_conv.txt\", \"r\")\n",
    "\n",
    "for line in text_file:\n",
    "    if (len(line.split())>=3):\n",
    "        ListofCap.append(float(line.split()[1]))\n",
    "        ListofAva.append(float(line.split()[2]))\n",
    "\n",
    "for i in range(len(ListofCap)):\n",
    "    convCap += ListofCap[i]\n",
    "    meanCap += ListofCap[i]*ListofAva[i]\n",
    "    varCap  += ListofCap[i]**2*ListofAva[i]*(1-ListofAva[i])\n",
    "\n",
    "sdCap = varCap**0.5\n",
    "print(\"Total capacity\", convCap)\n",
    "print(\"Expected capacity\", meanCap)\n",
    "print(\"SD\", sdCap)\n",
    "\n",
    "#calculate probs\n",
    "\n",
    "maxCap=int(convCap)+1\n",
    "ProbDist=[1]+[0]*(maxCap)\n",
    "\n",
    "largestCap=1\n",
    "\n",
    "for i in range(len(ListofCap)):\n",
    "#    print(int(ListofCap[i]))\n",
    "    largestCap+= round(ListofCap[i])\n",
    "    temp=ProbDist.copy()\n",
    "    for j in range(largestCap+1):\n",
    "        if(j-round(ListofCap[i])>=0):\n",
    "            ProbDist[j] = temp[j]*(1-ListofAva[i])+temp[j-round(ListofCap[i])]*ListofAva[i]\n",
    "        else:\n",
    "            ProbDist[j] = temp[j]*(1-ListofAva[i])\n",
    "\n",
    "print(\"Length of ProbDist\",len(ProbDist))\n",
    "print(sum(ProbDist))\n",
    "# print(ProbDist)\n",
    "\n",
    "# Cumulative distribution \n",
    "cumdis=[0]*(maxCap+1)\n",
    "for i in range(len(cumdis)):\n",
    "    cumdis[i]=cumdis[i-1]+ProbDist[i]\n",
    "    \n",
    "    \n",
    "    \n",
    "# Expected energy output\n",
    "\n",
    "Eep=[0]*(maxCap+1)\n",
    "for i in range(len(Eep)):\n",
    "    Eep[i]=Eep[i-1]+i*ProbDist[i]"
   ]
  },
  {
   "cell_type": "markdown",
   "metadata": {},
   "source": [
    "Print the cumulative distribution in a txt file"
   ]
  },
  {
   "cell_type": "code",
   "execution_count": 18,
   "metadata": {},
   "outputs": [],
   "source": [
    "#### wirte results in txt\n",
    "f = open(\"Capacity Distribution.txt\", \"w\")\n",
    "f.write(\"Capacity  Probability  CumulativeProb \\n\")\n",
    "for i in range(len(ProbDist)):\n",
    "    f.write(str(i))\n",
    "    f.write('  ')\n",
    "    f.write(str(ProbDist[i]))\n",
    "    f.write('  ')\n",
    "    f.write(str(cumdis[i]))\n",
    "    f.write('\\n')\n",
    "f.close()"
   ]
  },
  {
   "cell_type": "code",
   "execution_count": 19,
   "metadata": {},
   "outputs": [
    {
     "data": {
      "image/png": "[encoded data removed]",
      "text/plain": [
       "<Figure size 432x288 with 1 Axes>"
      ]
     },
     "metadata": {
      "needs_background": "light"
     },
     "output_type": "display_data"
    }
   ],
   "source": [
    "import math\n",
    "import matplotlib.pyplot as plt\n",
    "\n",
    "x=[]\n",
    "for i in range(len(cumdis)):\n",
    "    x.append(i)\n",
    "\n",
    "\n",
    "\n",
    "plt.plot(x,cumdis)\n",
    "#plt.title('cumulative probability distribution for conventional generators')\n",
    "plt.xlabel('x')\n",
    "plt.ylabel('$\\mathbb{P}(Output<x)$')\n",
    "plt.show()"
   ]
  },
  {
   "cell_type": "markdown",
   "metadata": {},
   "source": [
    "# 2. LOLE, Loss of Load Expection"
   ]
  },
  {
   "cell_type": "markdown",
   "metadata": {},
   "source": [
    "Read the data for GB demand 7(number of years)*demand each time; GB wind; Ir demand; Ir wind."
   ]
  },
  {
   "cell_type": "code",
   "execution_count": 20,
   "metadata": {},
   "outputs": [],
   "source": [
    "import numpy as np\n",
    "\n",
    "GBdem=[]\n",
    "GBwind=[]\n",
    "Idem=[]\n",
    "Iwind=[]\n",
    "\n",
    "text_file = open(\"InterconnectionData_Rescaled.txt\", \"r\")\n",
    "\n",
    "for line in text_file:\n",
    "#    if (str(line.split()[1]).startswith('\"2008')):\n",
    "    if (len(line.split())>=7):\n",
    "        GBdem.append(float(line.split()[3]))\n",
    "        GBwind.append(float(line.split()[5]))\n",
    "        Idem.append(float(line.split()[4]))\n",
    "        Iwind.append(float(line.split()[6]))\n",
    "\n",
    "GBdem=np.array(GBdem)\n",
    "GBwind=np.array(GBwind)\n",
    "Idem=np.array(Idem)\n",
    "Iwind=np.array(Iwind)\n",
    "\n",
    "GBdem=GBdem.reshape(7,3360)\n",
    "GBwind=GBwind.reshape(7,3360)\n"
   ]
  },
  {
   "cell_type": "code",
   "execution_count": 5,
   "metadata": {
    "scrolled": true
   },
   "outputs": [
    {
     "data": {
      "text/plain": [
       "array([28372.72025732, 27053.93985423, 25711.9838577 , ...,\n",
       "       36071.91980564, 33953.58142919, 32015.29958632])"
      ]
     },
     "execution_count": 5,
     "metadata": {},
     "output_type": "execute_result"
    }
   ],
   "source": [
    "GBdem[0]"
   ]
  },
  {
   "cell_type": "markdown",
   "metadata": {},
   "source": [
    "Calculate the LOLE of each year."
   ]
  },
  {
   "cell_type": "code",
   "execution_count": 21,
   "metadata": {},
   "outputs": [
    {
     "name": "stdout",
     "output_type": "stream",
     "text": [
      "The LOLE each year 2007-2014 for GB are:  \n",
      "[0.7303243658803696, 2.545702871381105, 2.7927996605889853, 8.043599051254958, 1.8922702234690605, 4.904167733963393, 0.09853091279546701]\n"
     ]
    }
   ],
   "source": [
    "LOLE_GB=[]\n",
    "for y in range(7):\n",
    "    LOLE=0\n",
    "    for i in range(len(GBdem[0])):\n",
    "        netdemand = GBdem[y][i]-GBwind[y][i]\n",
    "        LOLP = cumdis[round(netdemand)]  #note: cumdis is the cumulative distribution calculated above\n",
    "        LOLE += LOLP\n",
    "    LOLE_GB.append(LOLE)\n",
    "\n",
    "print('The LOLE each year 2007-2014 for GB are:  ')\n",
    "print(LOLE_GB)\n"
   ]
  },
  {
   "cell_type": "markdown",
   "metadata": {},
   "source": [
    "Calculate the probability of no shortfall of each year."
   ]
  },
  {
   "cell_type": "code",
   "execution_count": 22,
   "metadata": {},
   "outputs": [
    {
     "name": "stdout",
     "output_type": "stream",
     "text": [
      "The probability of no shortfall each year 2007-2014 for GB are:  \n",
      "[0.47099563534517885, 0.0616097503123843, 0.04052613126351226, 4.216823824940439e-05, 0.11236394016313986, 0.00294394585467725, 0.9057516968090479]\n"
     ]
    }
   ],
   "source": [
    "Pnosf=[]\n",
    "for y in range(7):\n",
    "    P=1\n",
    "    for i in range(len(GBdem[0])):\n",
    "        netdemand = GBdem[y][i]-GBwind[y][i]\n",
    "        P = P*(1-cumdis[round(netdemand)])  #note: cumdis is the cumulative distribution calculated above\n",
    "    Pnosf.append(P)\n",
    "print('The probability of no shortfall each year 2007-2014 for GB are:  ')\n",
    "print(Pnosf)\n"
   ]
  },
  {
   "cell_type": "markdown",
   "metadata": {},
   "source": [
    "Calculate the EEU of each year.\n",
    "See below"
   ]
  },
  {
   "cell_type": "markdown",
   "metadata": {},
   "source": [
    "# Calculate EFC value, using LOLE, time-collapsed\n",
    "\n",
    "Let the sum of LOLE for theses 7 years be similar"
   ]
  },
  {
   "cell_type": "code",
   "execution_count": 23,
   "metadata": {
    "scrolled": true
   },
   "outputs": [
    {
     "name": "stdout",
     "output_type": "stream",
     "text": [
      "Assuming the EFC is:  2990.5 GW\n",
      "LOLE of 7 years for GB : \n",
      "[0.7303243658803696, 2.545702871381105, 2.7927996605889853, 8.043599051254958, 1.8922702234690605, 4.904167733963393, 0.09853091279546701]\n",
      "sum 21.007394819333342\n",
      "\n",
      "\n",
      "Using EFC :\n",
      "[0.9467548769641602, 3.113059264571762, 4.4758117233476264, 7.035519091952702, 1.5292510505688657, 3.6668806506200378, 0.2370972571369944]\n",
      "sum 21.004373915162148\n"
     ]
    }
   ],
   "source": [
    "EFC=2990.5    #Try EFC with value 700\n",
    "\n",
    "LOLE_GB_EFC=[]\n",
    "for y in range(7):\n",
    "    LOLE=0\n",
    "    for i in range(len(GBdem[0])):\n",
    "        swtichdemand = GBdem[y][i]-EFC\n",
    "        LOLP = cumdis[round(swtichdemand)]  #note: cumdis is the cumulative distribution calculated above\n",
    "        LOLE += LOLP\n",
    "    LOLE_GB_EFC.append(LOLE)\n",
    "\n",
    "print('Assuming the EFC is: ',EFC, 'GW')\n",
    "print('LOLE of 7 years for GB : ')\n",
    "print(LOLE_GB)\n",
    "print('sum',sum(LOLE_GB))\n",
    "print('\\n')\n",
    "print('Using EFC :') \n",
    "print(LOLE_GB_EFC)\n",
    "print('sum',sum(LOLE_GB_EFC))"
   ]
  },
  {
   "cell_type": "markdown",
   "metadata": {},
   "source": [
    "Let the sum of EEU for theses 7 years be similar"
   ]
  },
  {
   "cell_type": "markdown",
   "metadata": {},
   "source": [
    "# Calculate EFC value, using EEU, time-collapsed\n",
    "\n",
    "Let the sum of EEU for theses 7 years be similar"
   ]
  },
  {
   "cell_type": "code",
   "execution_count": 29,
   "metadata": {
    "scrolled": true
   },
   "outputs": [
    {
     "name": "stdout",
     "output_type": "stream",
     "text": [
      "The EEU each year 2007-2014 for GB are:  \n",
      "[590.4953357331691, 2442.9190732008506, 2851.701949154869, 9782.879423519582, 2001.9718944348742, 5478.3981965444245, 64.94422744528916]\n",
      "The average EEU is:  3316.18715714758\n"
     ]
    }
   ],
   "source": [
    "EEU_GB=[]\n",
    "for y in range(7):\n",
    "    EEU=0\n",
    "    for i in range(len(GBdem[0])):\n",
    "        netdem = round(GBdem[y][i]-GBwind[y][i])\n",
    "        EEUt =  netdem*cumdis[netdem-1]-Eep[netdem-1]\n",
    "        EEU += EEUt\n",
    "    EEU_GB.append(EEU)\n",
    "\n",
    "print('The EEU each year 2007-2014 for GB are:  ')\n",
    "print(EEU_GB)\n",
    "print('The average EEU is: ',sum(EEU_GB)/len(EEU_GB))"
   ]
  },
  {
   "cell_type": "code",
   "execution_count": 41,
   "metadata": {},
   "outputs": [
    {
     "name": "stdout",
     "output_type": "stream",
     "text": [
      "EEU of 7 years for GB: \n",
      "[590.4953357331691, 2442.9190732008506, 2851.701949154869, 9782.879423519582, 2001.9718944348742, 5478.3981965444245, 64.94422744528916]\n",
      "average 3316.18715714758\n",
      "\n",
      "\n",
      "Using EFC = 2806 GW:\n",
      "[935.9829377185706, 3292.556765873508, 5090.488062188333, 8325.026927016357, 1496.0752400113206, 3871.102919135179, 197.08292704214452]\n",
      "average 3315.473682712201\n"
     ]
    }
   ],
   "source": [
    "EFC=2806 #Try EFC with value 700\n",
    "\n",
    "EEU_GB_EFC=[]\n",
    "for y in range(7):\n",
    "    EEU=0\n",
    "    for i in range(len(GBdem[0])):\n",
    "        x = round(GBdem[y][i]-EFC) #swtichdemand\n",
    "        EEUt = x*cumdis[x-1]-Eep[x-1]\n",
    "#        print(EEUt)\n",
    "        EEU += EEUt\n",
    "    EEU_GB_EFC.append(EEU)\n",
    "\n",
    "print('EEU of 7 years for GB: ')\n",
    "print(EEU_GB)\n",
    "print('average',sum(EEU_GB)/len(EEU_GB))\n",
    "print('\\n')\n",
    "\n",
    "print('Using EFC =',EFC, 'GW:') \n",
    "print(EEU_GB_EFC)\n",
    "print('average',sum(EEU_GB_EFC)/len(EEU_GB_EFC))\n"
   ]
  },
  {
   "cell_type": "code",
   "execution_count": null,
   "metadata": {},
   "outputs": [],
   "source": []
  },
  {
   "cell_type": "markdown",
   "metadata": {},
   "source": [
    "# Calculate EFC value, using Prob of no shortfall, time collapsed\n"
   ]
  },
  {
   "cell_type": "code",
   "execution_count": 12,
   "metadata": {},
   "outputs": [
    {
     "name": "stdout",
     "output_type": "stream",
     "text": [
      "The average probability of no shortfall in year 2007-2014 for GB is:   0.2277476097123128\n",
      "[0.4262530973637139, 0.05533025249802788, 0.013018829818552983, 0.0009440530780991901, 0.2533442952396131, 0.0334748449094323, 0.817926356894541]\n",
      "Using EFC=  3100 , The average probability of no shortfall in year 2007-2014 for GB is:  0.22861310425742576\n"
     ]
    }
   ],
   "source": [
    "print('The average probability of no shortfall in year 2007-2014 for GB is:  ',sum(Pnosf)/7 )\n",
    "\n",
    "EFC=3100 #Try EFC with value 700\n",
    "\n",
    "Pnosf_EFC=[]\n",
    "for y in range(7):\n",
    "    P=1\n",
    "    for i in range(len(GBdem[0])):\n",
    "        x = round(GBdem[y][i]-EFC) #swtichdemand\n",
    "        P = P*(1-cumdis[round(x)])  #note: cumdis is the cumulative distribution calculated above\n",
    "    Pnosf_EFC.append(P)\n",
    "\n",
    "print(Pnosf_EFC)\n",
    "print('Using EFC= ', EFC,', The average probability of no shortfall in year 2007-2014 for GB is: ', sum(Pnosf_EFC)/7 )"
   ]
  },
  {
   "cell_type": "code",
   "execution_count": null,
   "metadata": {},
   "outputs": [],
   "source": []
  },
  {
   "cell_type": "code",
   "execution_count": null,
   "metadata": {},
   "outputs": [],
   "source": []
  },
  {
   "cell_type": "markdown",
   "metadata": {},
   "source": [
    "# Substitute wind to n conventional generators\n"
   ]
  },
  {
   "cell_type": "code",
   "execution_count": 13,
   "metadata": {},
   "outputs": [
    {
     "name": "stdout",
     "output_type": "stream",
     "text": [
      "Length of ProbDist 59932\n",
      "1.0000000000000002\n"
     ]
    }
   ],
   "source": [
    "#### Construct new probability distribution\n",
    "# n is the number of conventional generators added\n",
    "\n",
    "n=36\n",
    "\n",
    "ListofCap_copy=ListofCap.copy()\n",
    "ListofAva_copy=ListofAva.copy()\n",
    "ListofCap_copy.extend([100]*n)\n",
    "ListofAva_copy.extend([0.95]*n)\n",
    "\n",
    "\n",
    "for i in range(len(ListofCap_copy)):\n",
    "    convCap += ListofCap_copy[i]\n",
    "    \n",
    "maxCap=int(convCap)+1\n",
    "ProbDist_copy=[1]+[0]*(maxCap)\n",
    "\n",
    "largestCap=1\n",
    "\n",
    "for i in range(len(ListofCap_copy)):\n",
    "#    print(int(ListofCap[i]))\n",
    "    largestCap += round(ListofCap_copy[i])\n",
    "    temp=ProbDist_copy.copy()\n",
    "    for j in range(largestCap+1):\n",
    "        if(j-round(ListofCap_copy[i])>=0):\n",
    "            ProbDist_copy[j] = temp[j]*(1-ListofAva_copy[i])+temp[j-round(ListofCap_copy[i])]*ListofAva_copy[i]\n",
    "        else:\n",
    "            ProbDist_copy[j] = temp[j]*(1-ListofAva_copy[i])\n",
    "\n",
    "\n",
    "print(\"Length of ProbDist\",len(ProbDist))\n",
    "print(sum(ProbDist))\n",
    "# print(ProbDist)\n",
    "\n",
    "Cumdis_copy=[0]*(maxCap+1)\n",
    "for i in range(len(Cumdis_copy)):\n",
    "    Cumdis_copy[i]=Cumdis_copy[i-1]+ProbDist_copy[i]\n"
   ]
  },
  {
   "cell_type": "code",
   "execution_count": 14,
   "metadata": {},
   "outputs": [
    {
     "name": "stdout",
     "output_type": "stream",
     "text": [
      "The LOLE for 2007 is:   0.559241034163066\n",
      "The LOLE for 2007 is:   0.5018562251239204\n"
     ]
    }
   ],
   "source": [
    "### For each year:\n",
    "### 2007\n",
    "GBdem=[]\n",
    "GBwind=[]\n",
    "Idem=[]\n",
    "Iwind=[]\n",
    "######   read data\n",
    "text_file = open(\"InterconnectionData_Rescaled.txt\", \"r\")\n",
    "\n",
    "for line in text_file:\n",
    "    if (str(line.split()[1]).startswith('\"2007')):\n",
    "        GBdem.append(float(line.split()[3]))\n",
    "        Idem.append(float(line.split()[4]))\n",
    "        GBwind.append(float(line.split()[5]))\n",
    "        Iwind.append(float(line.split()[6]))\n",
    "\n",
    "\n",
    "LOLE_GB=0   #units is hours\n",
    "for i in range(len(GBdem)):\n",
    "    winminusdem = GBdem[i]-GBwind[i]   #netdemand\n",
    "    LOLP = cumdis[round(winminusdem)]  #note: cumdis is the cumulative distribution calculated above\n",
    "    LOLE_GB += LOLP\n",
    "    \n",
    "print('The LOLE for 2007 is:  ',LOLE_GB)\n",
    "\n",
    "\n",
    "LOLE_GB=0   #units is hours\n",
    "for i in range(len(GBdem)):\n",
    "    demand = GBdem[i]\n",
    "    LOLP = Cumdis_copy[round(demand)]  #note: cumdis is the cumulative distribution calculated above\n",
    "    LOLE_GB += LOLP\n",
    "print('The LOLE for 2007 is:  ',LOLE_GB)"
   ]
  },
  {
   "cell_type": "code",
   "execution_count": 15,
   "metadata": {
    "scrolled": false
   },
   "outputs": [
    {
     "name": "stdout",
     "output_type": "stream",
     "text": [
      "The LOLE for 2008 is:   0.8614741502843919\n",
      "The LOLE for 2008 is:   0.8475928472192411\n"
     ]
    }
   ],
   "source": [
    "### For each year:\n",
    "### 2018\n",
    "GBdem=[]\n",
    "GBwind=[]\n",
    "Idem=[]\n",
    "Iwind=[]\n",
    "######   read data\n",
    "text_file = open(\"InterconnectionData_Rescaled.txt\", \"r\")\n",
    "\n",
    "for line in text_file:\n",
    "    if (str(line.split()[1]).startswith('\"2008')):\n",
    "        GBdem.append(float(line.split()[3]))\n",
    "        Idem.append(float(line.split()[4]))\n",
    "        GBwind.append(float(line.split()[5]))\n",
    "        Iwind.append(float(line.split()[6]))\n",
    "\n",
    "\n",
    "LOLE_GB=0   #units is hours\n",
    "for i in range(len(GBdem)):\n",
    "    winminusdem = GBdem[i]-GBwind[i]\n",
    "    LOLP = cumdis[round(winminusdem)]  #note: cumdis is the cumulative distribution calculated above\n",
    "    LOLE_GB += LOLP\n",
    "    \n",
    "print('The LOLE for 2008 is:  ',LOLE_GB)\n",
    "\n",
    "LOLE_GB=0   #units is hours\n",
    "for i in range(len(GBdem)):\n",
    "    demand = GBdem[i]\n",
    "    LOLP = Cumdis_copy[round(demand)]  #note: cumdis is the cumulative distribution calculated above\n",
    "    LOLE_GB += LOLP\n",
    "print('The LOLE for 2008 is:  ',LOLE_GB)\n"
   ]
  },
  {
   "cell_type": "markdown",
   "metadata": {},
   "source": [
    "# Conclution\n",
    "2007\n",
    "LOLE with net demand is 0.5592\n",
    "\n",
    "When n=35 LOLE=0.5611\n",
    "When n=36 LOLE=0.5019\n",
    "\n",
    "n therfore is approximately 35.2\n",
    "\n",
    "2008\n",
    "LOLE with net demand is 0.861\n",
    "\n",
    "When n=35 LOLE=0.9501\n",
    "When n=36 LOLE=0.8476\n",
    "\n",
    "n therfore is approximately 35.8"
   ]
  }
 ],
 "metadata": {
  "kernelspec": {
   "display_name": "Python 3",
   "language": "python",
   "name": "python3"
  },
  "language_info": {
   "codemirror_mode": {
    "name": "ipython",
    "version": 3
   },
   "file_extension": ".py",
   "mimetype": "text/x-python",
   "name": "python",
   "nbconvert_exporter": "python",
   "pygments_lexer": "ipython3",
   "version": "3.7.6"
  }
 },
 "nbformat": 4,
 "nbformat_minor": 2
}
