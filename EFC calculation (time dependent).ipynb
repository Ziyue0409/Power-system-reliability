{
 "cells": [
  {
   "cell_type": "markdown",
   "metadata": {},
   "source": [
    "# 3. EEU, Expected Energy Unserved\n",
    "\n",
    "\n"
   ]
  },
  {
   "cell_type": "markdown",
   "metadata": {},
   "source": [
    "#  Import data\n",
    "\n",
    "\n"
   ]
  },
  {
   "cell_type": "code",
   "execution_count": 1,
   "metadata": {},
   "outputs": [
    {
     "name": "stdout",
     "output_type": "stream",
     "text": [
      "pip 20.0.2 from /opt/conda/lib/python3.7/site-packages/pip (python 3.7)\n",
      "Note: you may need to restart the kernel to use updated packages.\n"
     ]
    }
   ],
   "source": [
    "pip --version"
   ]
  },
  {
   "cell_type": "code",
   "execution_count": 2,
   "metadata": {},
   "outputs": [],
   "source": [
    "#pip install psrmodels "
   ]
  },
  {
   "cell_type": "code",
   "execution_count": 1,
   "metadata": {},
   "outputs": [
    {
     "name": "stdout",
     "output_type": "stream",
     "text": [
      "Processing /home/jovyan/.cache/pip/wheels/f9/79/60/e0c7a9fc4aceccc24c614720453a189f10c908a840ab91839b/psrmodels-1.2.7-cp37-cp37m-linux_x86_64.whl\n",
      "Requirement already satisfied: matplotlib in /opt/conda/lib/python3.7/site-packages (from psrmodels==1.2.7) (3.2.2)\n",
      "Collecting pymc3==3.7\n",
      "  Using cached pymc3-3.7-py3-none-any.whl (856 kB)\n",
      "Requirement already satisfied: numpy in /opt/conda/lib/python3.7/site-packages (from psrmodels==1.2.7) (1.19.4)\n",
      "Requirement already satisfied: pandas in /opt/conda/lib/python3.7/site-packages (from psrmodels==1.2.7) (1.1.4)\n",
      "Collecting shapely\n",
      "  Using cached Shapely-1.7.1-cp37-cp37m-manylinux1_x86_64.whl (1.0 MB)\n",
      "Requirement already satisfied: seaborn in /opt/conda/lib/python3.7/site-packages (from psrmodels==1.2.7) (0.11.0)\n",
      "Requirement already satisfied: cffi>=1.0.0 in /opt/conda/lib/python3.7/site-packages (from psrmodels==1.2.7) (1.14.0)\n",
      "Requirement already satisfied: scipy in /opt/conda/lib/python3.7/site-packages (from psrmodels==1.2.7) (1.5.3)\n",
      "Requirement already satisfied: pyparsing!=2.0.4,!=2.1.2,!=2.1.6,>=2.0.1 in /opt/conda/lib/python3.7/site-packages (from matplotlib->psrmodels==1.2.7) (2.4.7)\n",
      "Requirement already satisfied: kiwisolver>=1.0.1 in /opt/conda/lib/python3.7/site-packages (from matplotlib->psrmodels==1.2.7) (1.3.1)\n",
      "Requirement already satisfied: cycler>=0.10 in /opt/conda/lib/python3.7/site-packages (from matplotlib->psrmodels==1.2.7) (0.10.0)\n",
      "Requirement already satisfied: python-dateutil>=2.1 in /opt/conda/lib/python3.7/site-packages (from matplotlib->psrmodels==1.2.7) (2.8.1)\n",
      "Requirement already satisfied: h5py>=2.7.0 in /opt/conda/lib/python3.7/site-packages (from pymc3==3.7->psrmodels==1.2.7) (2.10.0)\n",
      "Processing /home/jovyan/.cache/pip/wheels/26/68/6f/745330367ce7822fe0cd863712858151f5723a0a5e322cc144/Theano-1.0.5-py3-none-any.whl\n",
      "Requirement already satisfied: patsy>=0.4.0 in /opt/conda/lib/python3.7/site-packages (from pymc3==3.7->psrmodels==1.2.7) (0.5.1)\n",
      "Requirement already satisfied: tqdm>=4.8.4 in /opt/conda/lib/python3.7/site-packages (from pymc3==3.7->psrmodels==1.2.7) (4.43.0)\n",
      "Requirement already satisfied: pytz>=2017.2 in /opt/conda/lib/python3.7/site-packages (from pandas->psrmodels==1.2.7) (2020.4)\n",
      "Requirement already satisfied: pycparser in /opt/conda/lib/python3.7/site-packages (from cffi>=1.0.0->psrmodels==1.2.7) (2.20)\n",
      "Requirement already satisfied: six in /opt/conda/lib/python3.7/site-packages (from cycler>=0.10->matplotlib->psrmodels==1.2.7) (1.14.0)\n",
      "Installing collected packages: theano, pymc3, shapely, psrmodels\n",
      "Successfully installed psrmodels-1.2.7 pymc3-3.7 shapely-1.7.1 theano-1.0.5\n",
      "Note: you may need to restart the kernel to use updated packages.\n"
     ]
    }
   ],
   "source": [
    "pip install psrmodels==1.2.7"
   ]
  },
  {
   "cell_type": "code",
   "execution_count": 2,
   "metadata": {},
   "outputs": [
    {
     "name": "stdout",
     "output_type": "stream",
     "text": [
      "Collecting Deprecated\n",
      "  Downloading Deprecated-1.2.12-py2.py3-none-any.whl (9.5 kB)\n",
      "Processing /home/jovyan/.cache/pip/wheels/62/76/4c/aa25851149f3f6d9785f6c869387ad82b3fd37582fa8147ac6/wrapt-1.12.1-cp37-cp37m-linux_x86_64.whl\n",
      "Installing collected packages: wrapt, Deprecated\n",
      "Successfully installed Deprecated-1.2.12 wrapt-1.12.1\n",
      "Note: you may need to restart the kernel to use updated packages.\n"
     ]
    }
   ],
   "source": [
    "pip install Deprecated"
   ]
  },
  {
   "cell_type": "code",
   "execution_count": 3,
   "metadata": {
    "scrolled": true
   },
   "outputs": [
    {
     "name": "stdout",
     "output_type": "stream",
     "text": [
      "[28372.72025732 27053.93985423 25711.9838577  ... 34494.52422018\n",
      " 31811.47559633 29294.59027523]\n",
      "[4759.07755373 4366.75539076 4083.8786473  ... 5663.71140072 5230.62609173\n",
      " 4985.38775341]\n"
     ]
    }
   ],
   "source": [
    "######   read data as a whole year\n",
    "import numpy as np\n",
    "\n",
    "ListofCap=[]\n",
    "ListofAva=[]\n",
    "\n",
    "text_file = open(\"GB_anonymised_conv.txt\", \"r\")\n",
    "# text_file = open(\"I_conv.txt\", \"r\")\n",
    "\n",
    "for line in text_file:\n",
    "    if (len(line.split())>=3):\n",
    "        ListofCap.append(float(line.split()[1]))\n",
    "        ListofAva.append(float(line.split()[2]))\n",
    "\n",
    "ListofCap=np.array(ListofCap)\n",
    "ListofAva=np.array(ListofAva)\n",
    "        \n",
    "\n",
    "GBdem=[]\n",
    "GBwind=[]\n",
    "Idem=[]\n",
    "Iwind=[]\n",
    "# GBdem=np.array([[28372.7202573247,28372.7202573247]])\n",
    "# GBwind=np.array([[700.875,700.875]])\n",
    "\n",
    "######   read data\n",
    "text_file = open(\"InterconnectionData_Rescaled.txt\", \"r\")\n",
    "\n",
    "for line in text_file:\n",
    "#    if (str(line.split()[1]).startswith('\"2008')):\n",
    "    if (len(line.split())>=7):\n",
    "        GBdem.append(float(line.split()[3]))\n",
    "        GBwind.append(float(line.split()[5]))\n",
    "        Idem.append(float(line.split()[4]))\n",
    "        Iwind.append(float(line.split()[6]))\n",
    "\n",
    "GBdem=np.array(GBdem)\n",
    "GBwind=np.array(GBwind)\n",
    "Idem=np.array(Idem)\n",
    "Iwind=np.array(Iwind)\n",
    "print(GBdem)\n",
    "print(Idem)\n",
    "#print(ListofCap)"
   ]
  },
  {
   "cell_type": "code",
   "execution_count": 4,
   "metadata": {
    "scrolled": true
   },
   "outputs": [],
   "source": [
    "#combine two area demand; and demand seperate year\n",
    "demand_twoarea=np.concatenate((GBdem.reshape(7*3360,1), Idem.reshape(7*3360,1)), axis=1)\n",
    "wind_twoarea=np.concatenate((GBwind.reshape(7*3360,1), Iwind.reshape(7*3360,1)), axis=1)\n",
    "\n",
    "demand_sepyear=demand_twoarea.reshape(7,3360,2)\n",
    "wind_sepyear=wind_twoarea.reshape(7,3360,2)\n",
    "\n",
    "# print(demand_twoarea)\n",
    "# print(demand_sepyear[0])"
   ]
  },
  {
   "cell_type": "code",
   "execution_count": 5,
   "metadata": {},
   "outputs": [
    {
     "name": "stderr",
     "output_type": "stream",
     "text": [
      "WARNING (theano.configdefaults): install mkl with `conda install mkl-service`: No module named 'mkl'\n"
     ]
    },
    {
     "name": "stdout",
     "output_type": "stream",
     "text": [
      "20.983868847471033\n"
     ]
    }
   ],
   "source": [
    "##check the value of LOLE\n",
    "import numpy as np\n",
    "import pandas as pd\n",
    "\n",
    "from psrmodels.time_collapsed import BivariateHindcastMargin as tc_model\n",
    "from psrmodels.time_collapsed import ConvGenDistribution as tc_convgen\n",
    "\n",
    "from psrmodels.time_dependent import BivariateHindcastMargin as td_model\n",
    "from psrmodels.time_dependent import ConvGenDistribution as td_convgen\n",
    "\n",
    "gens =  pd.DataFrame({\"Capacity\": ListofCap, \"Availability\": ListofAva})\n",
    "\n",
    "convgen_dists = [tc_convgen(gens),tc_convgen(gens)]\n",
    "\n",
    "# create time-collapsed bivariate hindcast model\n",
    "\n",
    "model1 = tc_model(demand=demand_twoarea,renewables=wind_twoarea,gen_dists=convgen_dists)\n",
    "\n",
    "## compute LOLE for area 1 under a 'veto' policy an 1000MW interconnection capacity\n",
    "lole=model1.lole(c=0,policy=\"veto\",axis=0)\n",
    "print(lole)"
   ]
  },
  {
   "cell_type": "markdown",
   "metadata": {},
   "source": [
    "# Simulate data\n",
    "\n",
    "\n"
   ]
  },
  {
   "cell_type": "code",
   "execution_count": 6,
   "metadata": {},
   "outputs": [],
   "source": [
    "import numpy as np\n",
    "import pandas as pd\n",
    "\n",
    "from psrmodels.time_collapsed import BivariateHindcastMargin as tc_model\n",
    "from psrmodels.time_collapsed import ConvGenDistribution as tc_convgen\n",
    "\n",
    "from psrmodels.time_dependent import BivariateHindcastMargin as td_model\n",
    "from psrmodels.time_dependent import ConvGenDistribution as td_convgen\n",
    "\n",
    "# create toy demand and wind data with 100 observations\n",
    "np.random.seed(1)\n",
    "\n",
    "# create toy generator data\n",
    "\n",
    "gens =  pd.DataFrame({\"Capacity\": ListofCap, \"Availability\": ListofAva})\n",
    "\n",
    "convgen_dists = [tc_convgen(gens),tc_convgen(gens)]\n",
    "\n",
    "# now, create a time-sequential model\n",
    "\n",
    "# first, create time-sequential generators. We need to add a 'TTR' (time to repair) column to our generator data\n",
    "gens[\"TTR\"] = 50 #50 hours to repair on average\n",
    "td_convgen_dists = [td_convgen(gens),td_convgen(gens)]\n"
   ]
  },
  {
   "cell_type": "markdown",
   "metadata": {},
   "source": [
    "# a. Simulate data for OVERALL 7 years\n"
   ]
  },
  {
   "cell_type": "code",
   "execution_count": 9,
   "metadata": {},
   "outputs": [],
   "source": [
    "# Simulate all year data\n",
    "\n",
    "model2 = td_model(demand=demand_twoarea,renewables=wind_twoarea,gen_dists=td_convgen_dists)\n",
    "n_sim=1000\n",
    "sim_data = model2.simulate_post_itc(n_sim=n_sim,c=0,policy=\"veto\")"
   ]
  },
  {
   "cell_type": "code",
   "execution_count": 10,
   "metadata": {},
   "outputs": [],
   "source": [
    "# Simulate One year data EFC:\n",
    "EFC=2755\n",
    "EFCdem=demand_twoarea-EFC\n",
    "EFCwind=np.zeros(shape=EFCdem.shape)\n",
    "\n",
    "model2 = td_model(demand=EFCdem,renewables=EFCwind,gen_dists=td_convgen_dists)\n",
    "\n",
    "#use 1000,2000,3000,5000,10000\n",
    "n_sim=1000\n",
    "sim_data_EFC = model2.simulate_post_itc(n_sim=n_sim,c=0,policy=\"veto\")"
   ]
  },
  {
   "cell_type": "markdown",
   "metadata": {},
   "source": [
    "# a. EU distribution for Overall 7 years\n"
   ]
  },
  {
   "cell_type": "code",
   "execution_count": 11,
   "metadata": {
    "scrolled": true
   },
   "outputs": [],
   "source": [
    "EU=[0]*n_sim*7\n",
    "for i in range(n_sim*7):\n",
    "    tempEU=0\n",
    "    for j in range(3360):\n",
    "        tempEU+= -min(0,sim_data[3360*i+j][0])\n",
    "    EU[i]=tempEU\n",
    "\n",
    "EUdis=sorted(EU)\n",
    "#print(EUdis)"
   ]
  },
  {
   "cell_type": "code",
   "execution_count": 12,
   "metadata": {},
   "outputs": [],
   "source": [
    "# EUdis_EFC using EFC\n",
    "EU_EFC=[0]*n_sim*7\n",
    "for i in range(n_sim*7):\n",
    "    tempEU=0\n",
    "    for j in range(3360):\n",
    "        tempEU+= -min(0,sim_data_EFC[3360*i+j][0])\n",
    "    EU_EFC[i]=tempEU\n",
    "\n",
    "\n",
    "EUdis_EFC=sorted(EU_EFC)"
   ]
  },
  {
   "cell_type": "markdown",
   "metadata": {},
   "source": [
    "# Calculate EFC using EEU\n",
    "\n",
    "\n"
   ]
  },
  {
   "cell_type": "code",
   "execution_count": 13,
   "metadata": {},
   "outputs": [
    {
     "name": "stdout",
     "output_type": "stream",
     "text": [
      "EEU OVERALL is:  3342.001171206211\n"
     ]
    }
   ],
   "source": [
    "###Calculate EEU which is the average EU \n",
    "EEU=np.sum(EUdis)/len(EUdis)\n",
    "\n",
    "print('EEU OVERALL is: ',EEU)"
   ]
  },
  {
   "cell_type": "code",
   "execution_count": 14,
   "metadata": {},
   "outputs": [
    {
     "name": "stdout",
     "output_type": "stream",
     "text": [
      "EEU (using EFC 2755 ) is 3521.813103100166\n"
     ]
    }
   ],
   "source": [
    "EEU_EFC=np.sum(EU_EFC)/len(EU_EFC)\n",
    "print('EEU (using EFC',EFC,') is', EEU_EFC)"
   ]
  },
  {
   "cell_type": "code",
   "execution_count": 15,
   "metadata": {},
   "outputs": [
    {
     "data": {
      "image/png": "[encoded data removed]",
      "text/plain": [
       "<Figure size 432x288 with 1 Axes>"
      ]
     },
     "metadata": {
      "needs_background": "light"
     },
     "output_type": "display_data"
    }
   ],
   "source": [
    "#plot the mean EU in a year using different number of simulations.\n",
    "\n",
    "import matplotlib.pyplot as plt\n",
    "numofsim=[10,50,100,200,400,600,800,1000]\n",
    "EEUmean_mc=[3720,3357,3231,3385,3384,3456,3388,3342]\n",
    "EEUmean_real=[3316.2]*8\n",
    "\n",
    "\n",
    "plt.plot(numofsim,EEUmean_mc,label='Mean EU using MC simulations')\n",
    "plt.plot(numofsim,EEUmean_real,\"r\",label='EEU value')\n",
    "plt.title('Energy unserved by monte carlo simulations')\n",
    "plt.xlabel('number of simulations')\n",
    "plt.ylabel('Energy Unserved')\n",
    "plt.legend()\n",
    "plt.show()"
   ]
  },
  {
   "cell_type": "markdown",
   "metadata": {},
   "source": [
    "# Calculate EFC using the probability of no shortfall\n",
    "\n",
    "\n"
   ]
  },
  {
   "cell_type": "code",
   "execution_count": 16,
   "metadata": {},
   "outputs": [
    {
     "name": "stdout",
     "output_type": "stream",
     "text": [
      "The probability of no shortfall in Year 2007-2008 is: 0.362\n"
     ]
    }
   ],
   "source": [
    "ProbofnoEU=0\n",
    "for i in range(len(EUdis)):\n",
    "    if(EUdis[i]==0):\n",
    "        ProbofnoEU+=1\n",
    "ProbofnoEU=ProbofnoEU/len(EUdis)\n",
    "\n",
    "print('The probability of no shortfall in Year 2007-2008 is:', ProbofnoEU )\n",
    "\n"
   ]
  },
  {
   "cell_type": "code",
   "execution_count": 17,
   "metadata": {},
   "outputs": [
    {
     "name": "stdout",
     "output_type": "stream",
     "text": [
      "The probability of no shortfall (EFC=3050) is: 0.31114285714285717\n"
     ]
    }
   ],
   "source": [
    "ProbofnoEU_EFC=0\n",
    "for i in range(len(EUdis_EFC)):\n",
    "    if(EUdis_EFC[i]==0):\n",
    "        ProbofnoEU_EFC+=1\n",
    "ProbofnoEU_EFC=ProbofnoEU_EFC/len(EUdis_EFC)\n",
    "\n",
    "print('The probability of no shortfall (EFC=3050) is:', ProbofnoEU_EFC )"
   ]
  },
  {
   "cell_type": "markdown",
   "metadata": {},
   "source": [
    "# Calculate EFC using the 90th\n",
    "the upper 90th percentile of the distribution of energy unserved"
   ]
  },
  {
   "cell_type": "markdown",
   "metadata": {},
   "source": [
    "Calculate the upper 90th percentile of the distribution of energy unserved"
   ]
  },
  {
   "cell_type": "code",
   "execution_count": 18,
   "metadata": {},
   "outputs": [
    {
     "name": "stdout",
     "output_type": "stream",
     "text": [
      "the 90th upper energy unserved is:  10017.704191320387\n"
     ]
    }
   ],
   "source": [
    "## Using Year 2007 as simulation\n",
    "\n",
    "\n",
    "n=int(len(EUdis)/10)\n",
    "up90=EUdis[len(EUdis)-n]\n",
    "\n",
    "print('the 90th upper energy unserved is: ',  up90)\n"
   ]
  },
  {
   "cell_type": "code",
   "execution_count": 19,
   "metadata": {},
   "outputs": [
    {
     "name": "stdout",
     "output_type": "stream",
     "text": [
      "the 90th upper energy unserved using EFC is:  10016.511981981908\n"
     ]
    }
   ],
   "source": [
    "n=int(len(EUdis)/10)\n",
    "up90_EFC=EUdis_EFC[len(EUdis_EFC)-n]\n",
    "print('the 90th upper energy unserved using EFC is: ', up90_EFC)"
   ]
  },
  {
   "cell_type": "code",
   "execution_count": null,
   "metadata": {},
   "outputs": [],
   "source": []
  },
  {
   "cell_type": "code",
   "execution_count": null,
   "metadata": {},
   "outputs": [],
   "source": []
  },
  {
   "cell_type": "markdown",
   "metadata": {},
   "source": [
    "# Plot log(P(EU>x)) against x.\n"
   ]
  },
  {
   "cell_type": "code",
   "execution_count": 15,
   "metadata": {
    "scrolled": false
   },
   "outputs": [
    {
     "name": "stdout",
     "output_type": "stream",
     "text": [
      "The probability of no shortfall is: 0.6448\n"
     ]
    },
    {
     "data": {
      "image/png": "[encoded data removed]",
      "text/plain": [
       "<Figure size 432x288 with 1 Axes>"
      ]
     },
     "metadata": {
      "needs_background": "light"
     },
     "output_type": "display_data"
    }
   ],
   "source": [
    "import math\n",
    "import matplotlib.pyplot as plt\n",
    "\n",
    "x=EUdis\n",
    "ProbofnoEU=0\n",
    "for i in range(len(EUdis)):\n",
    "    if(EUdis[i]==0):\n",
    "        ProbofnoEU+=1\n",
    "ProbofnoEU=ProbofnoEU/len(EUdis)\n",
    "\n",
    "print('The probability of no shortfall is:', ProbofnoEU )\n",
    "\n",
    "P=[0]*len(EUdis)\n",
    "for i in range(len(EUdis)):\n",
    "    if EUdis[i]==0:\n",
    "        P[i]= 1-ProbofnoEU\n",
    "    else:\n",
    "        P[i]= 1/len(EUdis)*(len(EUdis)-i)\n",
    "\n",
    "\n",
    "plt.plot(x,P)\n",
    "plt.title('P(EU>x) against x')\n",
    "plt.xlabel('$x$')\n",
    "plt.ylabel('$\\mathbb{P}(EU>x)$')\n",
    "plt.show()"
   ]
  },
  {
   "cell_type": "code",
   "execution_count": 10,
   "metadata": {},
   "outputs": [
    {
     "data": {
      "image/png": "[encoded data removed]",
      "text/plain": [
       "<Figure size 432x288 with 1 Axes>"
      ]
     },
     "metadata": {
      "needs_background": "light"
     },
     "output_type": "display_data"
    }
   ],
   "source": [
    "x=EUdis\n",
    "logP=[0]*len(EUdis)\n",
    "for i in range(len(EUdis)):\n",
    "    if EUdis[i]==0:\n",
    "        logP[i]= math.log(1-ProbofnoEU)\n",
    "    else:\n",
    "        logP[i]=math.log(1/len(EUdis)*(len(EUdis)-i))\n",
    "    \n",
    "plt.plot(x,logP)\n",
    "plt.title('log(P(EU>x)) against x')\n",
    "plt.show()"
   ]
  },
  {
   "cell_type": "code",
   "execution_count": 11,
   "metadata": {},
   "outputs": [
    {
     "name": "stdout",
     "output_type": "stream",
     "text": [
      "46128.36360084659\n"
     ]
    }
   ],
   "source": [
    "n=round(0.99*len(EUdis))\n",
    "print(EUdis[n])"
   ]
  },
  {
   "cell_type": "markdown",
   "metadata": {},
   "source": [
    "# Value at risk and CVaR\n",
    "\n",
    "\n"
   ]
  },
  {
   "cell_type": "code",
   "execution_count": 16,
   "metadata": {
    "scrolled": false
   },
   "outputs": [
    {
     "name": "stdout",
     "output_type": "stream",
     "text": [
      "p value :  [0.01, 0.05, 0.1, 0.15, 0.2, 0.25, 0.3, 0.35, 0.4, 0.45, 0.5, 0.55, 0.6, 0.65, 0.7, 0.75, 0.8, 0.85, 0.9, 0.95, 1.0]\n",
      "\n",
      "VaR :   [7563.087176611603, 3234.189174386491, 1776.503719758497, 1075.9571450670992, 694.4963763513006, 414.49637635130057, 213.58269096710137, 18.47257763160451, 0, 0, 0, 0, 0, 0, 0, 0, 0, 0, 0, 0, 0]\n",
      "\n",
      "CVaR :  [10739.057233712101, 5911.623532560317, 4152.998547046441, 3228.17559233047, 2639.5178926222025, 2221.1745911095727, 1902.7465966269756, 1647.2419802773193, 1441.4623279514592, 1281.2998470679638, 1153.1698623611674, 1048.336238510152, 960.9748853009728, 887.053740277821, 823.6927588294053, 768.7799082407782, 720.7311639757296, 678.3352131536278, 640.6499235339819, 606.9315065058776, 576.5849311805837]\n"
     ]
    },
    {
     "data": {
      "image/png": "[encoded data removed]",
      "text/plain": [
       "<Figure size 432x288 with 1 Axes>"
      ]
     },
     "metadata": {
      "needs_background": "light"
     },
     "output_type": "display_data"
    }
   ],
   "source": [
    "#VaR\n",
    "x=[0.01]\n",
    "for i in range(1,21):\n",
    "    x.append(5*i/100)\n",
    "#x=[0.01,0.05,0.10,...,1]\n",
    "\n",
    "VaR=[]\n",
    "CVaR=[]\n",
    "for k in x:\n",
    "    VaR.append(EUdis[int((1-k)*len(EUdis))])\n",
    "    sum=0\n",
    "    for j in range(int(k*len(EUdis))):\n",
    "        sum+=EUdis[len(EUdis)-j-1]\n",
    "    CVaR.append(sum/int(k*len(EUdis)))\n",
    "\n",
    "# for k in x:\n",
    "#     VaR.append(EUdis[int((k)*len(EUdis))-1])\n",
    "#     sum=0\n",
    "#     for j in range(int(k*len(EUdis))):\n",
    "#         sum+=EUdis[j]\n",
    "#     CVaR.append(sum/int(k*len(EUdis)))\n",
    "\n",
    "print('p value : ', x)\n",
    "print('')\n",
    "print('VaR :  ', VaR)\n",
    "print('')\n",
    "print('CVaR : ', CVaR)\n",
    "\n",
    "\n",
    "plt.plot(x,VaR,\"r\",label='VaR')\n",
    "plt.plot(x,CVaR,\"b\",label='CVaR')\n",
    "plt.title('VaR and CVaR')\n",
    "plt.xlabel('$p$ value')\n",
    "plt.ylabel('EU')\n",
    "plt.legend()\n",
    "plt.show()"
   ]
  },
  {
   "cell_type": "code",
   "execution_count": 34,
   "metadata": {
    "scrolled": true
   },
   "outputs": [
    {
     "data": {
      "image/png": "[encoded data removed]",
      "text/plain": [
       "<Figure size 432x288 with 1 Axes>"
      ]
     },
     "metadata": {
      "needs_background": "light"
     },
     "output_type": "display_data"
    }
   ],
   "source": [
    "#for checking\n",
    "#inverse of P(EU>x) against x\n",
    "\n",
    "plt.plot(P,EUdis,label='Inverse of P(EU>x) against x')\n",
    "plt.plot(x,VaR,\"r\",label='VaR')\n",
    "plt.title('VaR calculation')\n",
    "plt.xlabel('$p$ value')\n",
    "plt.ylabel('EU')\n",
    "plt.legend()\n",
    "plt.show()"
   ]
  },
  {
   "cell_type": "code",
   "execution_count": null,
   "metadata": {},
   "outputs": [],
   "source": []
  },
  {
   "cell_type": "code",
   "execution_count": null,
   "metadata": {},
   "outputs": [],
   "source": []
  },
  {
   "cell_type": "markdown",
   "metadata": {},
   "source": [
    "# b. Simulate data for One Year\n"
   ]
  },
  {
   "cell_type": "code",
   "execution_count": 13,
   "metadata": {},
   "outputs": [],
   "source": [
    "# Simulate One year data\n",
    "\n",
    "model3 = td_model(demand=demand_sepyear[0],renewables=wind_sepyear[0],gen_dists=td_convgen_dists)\n",
    "n_sim=10000\n",
    "sim_data_oneyear = model3.simulate_post_itc(n_sim=n_sim,c=0,policy=\"veto\")"
   ]
  },
  {
   "cell_type": "code",
   "execution_count": 26,
   "metadata": {},
   "outputs": [],
   "source": [
    "# # Simulate One year data EFC:\n",
    "# EFC=3050\n",
    "# EFCdem=demand_sepyear[0]-EFC\n",
    "# EFCwind=np.zeros(shape=(3360,2))\n",
    "\n",
    "# model2 = td_model(demand=EFCdem,renewables=EFCwind,gen_dists=td_convgen_dists)\n",
    "\n",
    "# #use 1000,2000,3000,5000,10000\n",
    "# n_sim=10000\n",
    "# sim_data_EFC = model2.simulate_post_itc(n_sim=n_sim,c=0,policy=\"veto\")"
   ]
  },
  {
   "cell_type": "markdown",
   "metadata": {},
   "source": [
    "# b. EU distribution for one year\n"
   ]
  },
  {
   "cell_type": "code",
   "execution_count": 14,
   "metadata": {
    "scrolled": true
   },
   "outputs": [],
   "source": [
    "# EUdis using wind generations\n",
    "\n",
    "EU=[0]*n_sim\n",
    "for i in range(n_sim):\n",
    "    tempEU=0\n",
    "    for j in range(3360):\n",
    "        tempEU+= -min(0,sim_data_oneyear[3360*i+j][0])\n",
    "    EU[i]=tempEU\n",
    "\n",
    "EUdis=sorted(EU)\n",
    "#print(EUdis)"
   ]
  },
  {
   "cell_type": "code",
   "execution_count": 28,
   "metadata": {},
   "outputs": [],
   "source": [
    "# # EUdis_EFC using EFC\n",
    "# EU_EFC=[0]*n_sim\n",
    "# for i in range(n_sim):\n",
    "#     tempEU=0\n",
    "#     for j in range(3360):\n",
    "#         tempEU+= -min(0,sim_data_EFC[3360*i+j][0])\n",
    "#     EU_EFC[i]=tempEU\n",
    "\n",
    "\n",
    "# EUdis_EFC=sorted(EU_EFC)"
   ]
  },
  {
   "cell_type": "markdown",
   "metadata": {},
   "source": [
    "# Calculate EFC using EEU OVERALL\n",
    "\n",
    "\n"
   ]
  },
  {
   "cell_type": "code",
   "execution_count": 29,
   "metadata": {},
   "outputs": [],
   "source": [
    "EFC=3050\n",
    "# print(GBdem)\n",
    "EFCdem=demand_sepyear[0]-EFC\n",
    "\n",
    "# print(GBminEFC)\n",
    "\n",
    "EFCwind=np.zeros(shape=(3360,2))\n",
    "\n",
    "model2 = td_model(demand=EFCdem,renewables=EFCwind,gen_dists=td_convgen_dists)\n",
    "\n",
    "#use 1000,2000,3000,5000,10000\n",
    "n_sim=10000\n",
    "sim_data_EFC = model2.simulate_post_itc(n_sim=n_sim,c=0,policy=\"veto\")"
   ]
  },
  {
   "cell_type": "code",
   "execution_count": 30,
   "metadata": {},
   "outputs": [
    {
     "ename": "IndexError",
     "evalue": "invalid index to scalar variable.",
     "output_type": "error",
     "traceback": [
      "\u001b[0;31m---------------------------------------------------------------------------\u001b[0m",
      "\u001b[0;31mIndexError\u001b[0m                                Traceback (most recent call last)",
      "\u001b[0;32m<ipython-input-30-a6e6ba14f442>\u001b[0m in \u001b[0;36m<module>\u001b[0;34m\u001b[0m\n\u001b[1;32m      3\u001b[0m \u001b[0mEFCdem\u001b[0m\u001b[0;34m=\u001b[0m\u001b[0mnp\u001b[0m\u001b[0;34m.\u001b[0m\u001b[0mzeros\u001b[0m\u001b[0;34m(\u001b[0m\u001b[0mshape\u001b[0m\u001b[0;34m=\u001b[0m\u001b[0;34m(\u001b[0m\u001b[0mGBdem\u001b[0m\u001b[0;34m.\u001b[0m\u001b[0mshape\u001b[0m\u001b[0;34m[\u001b[0m\u001b[0;36m0\u001b[0m\u001b[0;34m]\u001b[0m\u001b[0;34m-\u001b[0m\u001b[0;36m1\u001b[0m\u001b[0;34m,\u001b[0m\u001b[0;36m2\u001b[0m\u001b[0;34m)\u001b[0m\u001b[0;34m)\u001b[0m\u001b[0;34m\u001b[0m\u001b[0;34m\u001b[0m\u001b[0m\n\u001b[1;32m      4\u001b[0m \u001b[0;32mfor\u001b[0m \u001b[0mi\u001b[0m \u001b[0;32min\u001b[0m \u001b[0mrange\u001b[0m\u001b[0;34m(\u001b[0m\u001b[0mGBdem\u001b[0m\u001b[0;34m.\u001b[0m\u001b[0mshape\u001b[0m\u001b[0;34m[\u001b[0m\u001b[0;36m0\u001b[0m\u001b[0;34m]\u001b[0m\u001b[0;34m-\u001b[0m\u001b[0;36m1\u001b[0m\u001b[0;34m)\u001b[0m\u001b[0;34m:\u001b[0m\u001b[0;34m\u001b[0m\u001b[0;34m\u001b[0m\u001b[0m\n\u001b[0;32m----> 5\u001b[0;31m     \u001b[0mEFCdem\u001b[0m\u001b[0;34m[\u001b[0m\u001b[0mi\u001b[0m\u001b[0;34m]\u001b[0m\u001b[0;34m[\u001b[0m\u001b[0;36m0\u001b[0m\u001b[0;34m]\u001b[0m\u001b[0;34m=\u001b[0m\u001b[0mGBdem\u001b[0m\u001b[0;34m[\u001b[0m\u001b[0mi\u001b[0m\u001b[0;34m+\u001b[0m\u001b[0;36m1\u001b[0m\u001b[0;34m]\u001b[0m\u001b[0;34m[\u001b[0m\u001b[0;36m0\u001b[0m\u001b[0;34m]\u001b[0m\u001b[0;34m-\u001b[0m\u001b[0mEFC\u001b[0m\u001b[0;34m\u001b[0m\u001b[0;34m\u001b[0m\u001b[0m\n\u001b[0m\u001b[1;32m      6\u001b[0m \u001b[0;31m# print(GBminEFC)\u001b[0m\u001b[0;34m\u001b[0m\u001b[0;34m\u001b[0m\u001b[0;34m\u001b[0m\u001b[0m\n\u001b[1;32m      7\u001b[0m \u001b[0;34m\u001b[0m\u001b[0m\n",
      "\u001b[0;31mIndexError\u001b[0m: invalid index to scalar variable."
     ]
    }
   ],
   "source": [
    "EFC=3050\n",
    "# print(GBdem)\n",
    "EFCdem=np.zeros(shape=(GBdem.shape[0]-1,2))\n",
    "for i in range(GBdem.shape[0]-1):\n",
    "    EFCdem[i][0]=GBdem[i+1][0]-EFC\n",
    "# print(GBminEFC)\n",
    "\n",
    "EFCwind=np.zeros(shape=(GBdem.shape[0]-1,2))\n",
    "\n",
    "\n",
    "\n",
    "model2 = td_model(demand=EFCdem,renewables=EFCwind,gen_dists=td_convgen_dists)\n",
    "\n",
    "\n",
    "n_sim=1000\n",
    "sim_data = model2.simulate_post_itc(n_sim=n_sim,c=0,policy=\"veto\")\n",
    "sum=0\n",
    "for i in range(sim_data.shape[0]):\n",
    "    if sim_data[i][0]<=0:\n",
    "        sum+= -sim_data[i][0]\n",
    "\n",
    "EEU=sum/n_sim\n",
    "print('EEU is: ',EEU)"
   ]
  },
  {
   "cell_type": "code",
   "execution_count": null,
   "metadata": {},
   "outputs": [],
   "source": [
    "n=[100,200,300,1000]\n",
    "EFC=[2763.5,2715.5,2728,2780]\n",
    "EU=[24199,25972,25046,23758]\n",
    "print('number of simulations',n)\n",
    "print('Energy unserved      ',EU)\n",
    "print('EFC values           ',EFC)"
   ]
  },
  {
   "cell_type": "code",
   "execution_count": null,
   "metadata": {},
   "outputs": [],
   "source": [
    "import matplotlib.pyplot as plt\n",
    "n_sim=[100,200,300,1000]\n",
    "EFCvalue=[2763.5, 2715.5, 2728, 2780]\n",
    "EFCEEU=[2781.3,2781.3,2781.3,2781.3]\n",
    "\n",
    "plt.plot(n_sim,EFCvalue,\"r\",label='EFC value using MCMC')\n",
    "plt.plot(n_sim,EFCEEU,\"b\",label='EFC value using EEU risk metric')\n",
    "plt.title('EFC Calculation using EU risk metric')\n",
    "plt.xlabel('$t$')\n",
    "plt.ylabel('$\\mathbb{E}(X^{2}(t)+Y^{2}(t))$')\n",
    "plt.legend()\n",
    "plt.show()"
   ]
  },
  {
   "cell_type": "code",
   "execution_count": null,
   "metadata": {},
   "outputs": [],
   "source": []
  },
  {
   "cell_type": "code",
   "execution_count": null,
   "metadata": {},
   "outputs": [],
   "source": []
  },
  {
   "cell_type": "markdown",
   "metadata": {},
   "source": [
    "# Calculate EFC using the 90th\n",
    "the upper 90th percentile of the distribution of energy unserved"
   ]
  },
  {
   "cell_type": "markdown",
   "metadata": {},
   "source": [
    "Calculate the upper 90th percentile of the distribution of energy unserved"
   ]
  },
  {
   "cell_type": "code",
   "execution_count": null,
   "metadata": {},
   "outputs": [],
   "source": [
    "## Using Year 2006 as simulation\n",
    "\n",
    "\n",
    "n=int(len(EUdis)/10)\n",
    "up90=EUdis[len(EUdis)-n]\n",
    "\n",
    "print('the 90th upper energy unserved is: ',  up90)\n"
   ]
  },
  {
   "cell_type": "code",
   "execution_count": null,
   "metadata": {},
   "outputs": [],
   "source": [
    "n=int(len(EUdis)/10)\n",
    "up90_EFC=EUdis_EFC[len(EUdis_EFC)-n]\n",
    "print('the 90th upper energy unserved using EFC is: ', up90_EFC)"
   ]
  },
  {
   "cell_type": "code",
   "execution_count": null,
   "metadata": {
    "scrolled": true
   },
   "outputs": [],
   "source": [
    "EFCvalue90th2006=[800,1000,1500]\n",
    "EU90th2006useEFC=[3554,2799,1520]\n",
    "EFC90th2006=[1520,3500]\n",
    "plt.plot(EFCvalue90th2006,EU90th2006useEFC)\n",
    "plt.title('EFC using 90th')\n",
    "plt.xlabel('EFC value')\n",
    "plt.ylabel('the 90th percentage EU value')\n",
    "plt.show()\n",
    "print('In year 2006')\n",
    "print('EEU is: ',EEU)\n",
    "print('using EFC value as:   ', EFCvalue90th2006 )\n",
    "print('corresponding EU 90th:', EU90th2006useEFC)\n",
    "print('the EU 90th is :', 1520)\n",
    "print('the EFC value using 90th metics is ', 1500, 'for 2006 winter')"
   ]
  },
  {
   "cell_type": "code",
   "execution_count": null,
   "metadata": {},
   "outputs": [],
   "source": []
  },
  {
   "cell_type": "markdown",
   "metadata": {},
   "source": [
    "# Conclution\n",
    "EEU with net demand is 445.893\n",
    "\n",
    "When n=35 EEU=459.74\n",
    "When n=36 EEU=405.58\n",
    "\n",
    "n therfore is approximately 35.3\n"
   ]
  }
 ],
 "metadata": {
  "kernelspec": {
   "display_name": "Python 3",
   "language": "python",
   "name": "python3"
  },
  "language_info": {
   "codemirror_mode": {
    "name": "ipython",
    "version": 3
   },
   "file_extension": ".py",
   "mimetype": "text/x-python",
   "name": "python",
   "nbconvert_exporter": "python",
   "pygments_lexer": "ipython3",
   "version": "3.7.6"
  }
 },
 "nbformat": 4,
 "nbformat_minor": 4
}
