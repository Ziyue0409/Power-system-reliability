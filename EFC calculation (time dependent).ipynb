{
 "cells": [
  {
   "cell_type": "markdown",
   "metadata": {},
   "source": [
    "# 3. EEU, Expected Energy Unserved\n",
    "\n",
    "\n"
   ]
  },
  {
   "cell_type": "markdown",
   "metadata": {},
   "source": [
    "#  Import data\n",
    "\n",
    "\n"
   ]
  },
  {
   "cell_type": "code",
   "execution_count": 1,
   "metadata": {},
   "outputs": [
    {
     "name": "stdout",
     "output_type": "stream",
     "text": [
      "pip 20.0.2 from /opt/conda/lib/python3.7/site-packages/pip (python 3.7)\n",
      "Note: you may need to restart the kernel to use updated packages.\n"
     ]
    }
   ],
   "source": [
    "pip --version"
   ]
  },
  {
   "cell_type": "code",
   "execution_count": 2,
   "metadata": {},
   "outputs": [
    {
     "name": "stdout",
     "output_type": "stream",
     "text": [
      "Processing /home/jovyan/.cache/pip/wheels/f9/79/60/e0c7a9fc4aceccc24c614720453a189f10c908a840ab91839b/psrmodels-1.2.7-cp37-cp37m-linux_x86_64.whl\n",
      "Requirement already satisfied: pandas in /opt/conda/lib/python3.7/site-packages (from psrmodels==1.2.7) (1.1.4)\n",
      "Collecting pymc3==3.7\n",
      "  Using cached pymc3-3.7-py3-none-any.whl (856 kB)\n",
      "Requirement already satisfied: scipy in /opt/conda/lib/python3.7/site-packages (from psrmodels==1.2.7) (1.5.3)\n",
      "Requirement already satisfied: cffi>=1.0.0 in /opt/conda/lib/python3.7/site-packages (from psrmodels==1.2.7) (1.14.0)\n",
      "Requirement already satisfied: numpy in /opt/conda/lib/python3.7/site-packages (from psrmodels==1.2.7) (1.19.4)\n",
      "Requirement already satisfied: seaborn in /opt/conda/lib/python3.7/site-packages (from psrmodels==1.2.7) (0.11.0)\n",
      "Collecting shapely\n",
      "  Using cached Shapely-1.7.1-cp37-cp37m-manylinux1_x86_64.whl (1.0 MB)\n",
      "Requirement already satisfied: matplotlib in /opt/conda/lib/python3.7/site-packages (from psrmodels==1.2.7) (3.2.2)\n",
      "Requirement already satisfied: python-dateutil>=2.7.3 in /opt/conda/lib/python3.7/site-packages (from pandas->psrmodels==1.2.7) (2.8.1)\n",
      "Requirement already satisfied: pytz>=2017.2 in /opt/conda/lib/python3.7/site-packages (from pandas->psrmodels==1.2.7) (2020.4)\n",
      "Requirement already satisfied: tqdm>=4.8.4 in /opt/conda/lib/python3.7/site-packages (from pymc3==3.7->psrmodels==1.2.7) (4.43.0)\n",
      "Requirement already satisfied: h5py>=2.7.0 in /opt/conda/lib/python3.7/site-packages (from pymc3==3.7->psrmodels==1.2.7) (2.10.0)\n",
      "Processing /home/jovyan/.cache/pip/wheels/26/68/6f/745330367ce7822fe0cd863712858151f5723a0a5e322cc144/Theano-1.0.5-py3-none-any.whl\n",
      "Requirement already satisfied: patsy>=0.4.0 in /opt/conda/lib/python3.7/site-packages (from pymc3==3.7->psrmodels==1.2.7) (0.5.1)\n",
      "Requirement already satisfied: pycparser in /opt/conda/lib/python3.7/site-packages (from cffi>=1.0.0->psrmodels==1.2.7) (2.20)\n",
      "Requirement already satisfied: kiwisolver>=1.0.1 in /opt/conda/lib/python3.7/site-packages (from matplotlib->psrmodels==1.2.7) (1.3.1)\n",
      "Requirement already satisfied: pyparsing!=2.0.4,!=2.1.2,!=2.1.6,>=2.0.1 in /opt/conda/lib/python3.7/site-packages (from matplotlib->psrmodels==1.2.7) (2.4.7)\n",
      "Requirement already satisfied: cycler>=0.10 in /opt/conda/lib/python3.7/site-packages (from matplotlib->psrmodels==1.2.7) (0.10.0)\n",
      "Requirement already satisfied: six>=1.5 in /opt/conda/lib/python3.7/site-packages (from python-dateutil>=2.7.3->pandas->psrmodels==1.2.7) (1.14.0)\n",
      "Installing collected packages: theano, pymc3, shapely, psrmodels\n",
      "Successfully installed psrmodels-1.2.7 pymc3-3.7 shapely-1.7.1 theano-1.0.5\n",
      "Note: you may need to restart the kernel to use updated packages.\n"
     ]
    }
   ],
   "source": [
    "pip install psrmodels==1.2.7"
   ]
  },
  {
   "cell_type": "code",
   "execution_count": 3,
   "metadata": {},
   "outputs": [
    {
     "name": "stdout",
     "output_type": "stream",
     "text": [
      "Collecting Deprecated\n",
      "  Using cached Deprecated-1.2.12-py2.py3-none-any.whl (9.5 kB)\n",
      "Processing /home/jovyan/.cache/pip/wheels/62/76/4c/aa25851149f3f6d9785f6c869387ad82b3fd37582fa8147ac6/wrapt-1.12.1-cp37-cp37m-linux_x86_64.whl\n",
      "Installing collected packages: wrapt, Deprecated\n",
      "Successfully installed Deprecated-1.2.12 wrapt-1.12.1\n",
      "Note: you may need to restart the kernel to use updated packages.\n"
     ]
    }
   ],
   "source": [
    "pip install Deprecated"
   ]
  },
  {
   "cell_type": "code",
   "execution_count": 4,
   "metadata": {
    "scrolled": true
   },
   "outputs": [
    {
     "name": "stdout",
     "output_type": "stream",
     "text": [
      "[28372.72025732 27053.93985423 25711.9838577  ... 34494.52422018\n",
      " 31811.47559633 29294.59027523]\n",
      "[4759.07755373 4366.75539076 4083.8786473  ... 5663.71140072 5230.62609173\n",
      " 4985.38775341]\n"
     ]
    }
   ],
   "source": [
    "######   read data as a whole year\n",
    "import numpy as np\n",
    "\n",
    "ListofCap=[]\n",
    "ListofAva=[]\n",
    "\n",
    "text_file = open(\"GB_anonymised_conv.txt\", \"r\")\n",
    "# text_file = open(\"I_conv.txt\", \"r\")\n",
    "\n",
    "for line in text_file:\n",
    "    if (len(line.split())>=3):\n",
    "        ListofCap.append(float(line.split()[1]))\n",
    "        ListofAva.append(float(line.split()[2]))\n",
    "\n",
    "ListofCap=np.array(ListofCap)\n",
    "ListofAva=np.array(ListofAva)\n",
    "        \n",
    "\n",
    "GBdem=[]\n",
    "GBwind=[]\n",
    "Idem=[]\n",
    "Iwind=[]\n",
    "# GBdem=np.array([[28372.7202573247,28372.7202573247]])\n",
    "# GBwind=np.array([[700.875,700.875]])\n",
    "\n",
    "######   read data\n",
    "text_file = open(\"InterconnectionData_Rescaled.txt\", \"r\")\n",
    "\n",
    "for line in text_file:\n",
    "#    if (str(line.split()[1]).startswith('\"2008')):\n",
    "    if (len(line.split())>=7):\n",
    "        GBdem.append(float(line.split()[3]))\n",
    "        GBwind.append(float(line.split()[5]))\n",
    "        Idem.append(float(line.split()[4]))\n",
    "        Iwind.append(float(line.split()[6]))\n",
    "\n",
    "GBdem=np.array(GBdem)\n",
    "GBwind=np.array(GBwind)\n",
    "Idem=np.array(Idem)\n",
    "Iwind=np.array(Iwind)\n",
    "print(GBdem)\n",
    "print(Idem)\n",
    "#print(ListofCap)"
   ]
  },
  {
   "cell_type": "code",
   "execution_count": 5,
   "metadata": {
    "scrolled": true
   },
   "outputs": [],
   "source": [
    "#combine two area demand; and demand seperate year\n",
    "demand_twoarea=np.concatenate((GBdem.reshape(7*3360,1), Idem.reshape(7*3360,1)), axis=1)\n",
    "wind_twoarea=np.concatenate((GBwind.reshape(7*3360,1), Iwind.reshape(7*3360,1)), axis=1)\n",
    "\n",
    "demand_sepyear=demand_twoarea.reshape(7,3360,2)\n",
    "wind_sepyear=wind_twoarea.reshape(7,3360,2)\n",
    "\n",
    "# print(demand_twoarea)\n",
    "# print(demand_sepyear[0])"
   ]
  },
  {
   "cell_type": "code",
   "execution_count": 6,
   "metadata": {},
   "outputs": [
    {
     "name": "stderr",
     "output_type": "stream",
     "text": [
      "WARNING (theano.configdefaults): install mkl with `conda install mkl-service`: No module named 'mkl'\n"
     ]
    },
    {
     "name": "stdout",
     "output_type": "stream",
     "text": [
      "20.983868847471033\n"
     ]
    }
   ],
   "source": [
    "##check the value of LOLE\n",
    "import numpy as np\n",
    "import pandas as pd\n",
    "\n",
    "from psrmodels.time_collapsed import BivariateHindcastMargin as tc_model\n",
    "from psrmodels.time_collapsed import ConvGenDistribution as tc_convgen\n",
    "\n",
    "from psrmodels.time_dependent import BivariateHindcastMargin as td_model\n",
    "from psrmodels.time_dependent import ConvGenDistribution as td_convgen\n",
    "\n",
    "gens =  pd.DataFrame({\"Capacity\": ListofCap, \"Availability\": ListofAva})\n",
    "\n",
    "convgen_dists = [tc_convgen(gens),tc_convgen(gens)]\n",
    "\n",
    "# create time-collapsed bivariate hindcast model\n",
    "\n",
    "model1 = tc_model(demand=demand_twoarea,renewables=wind_twoarea,gen_dists=convgen_dists)\n",
    "\n",
    "## compute LOLE for area 1 under a 'veto' policy an 1000MW interconnection capacity\n",
    "lole=model1.lole(c=0,policy=\"veto\",axis=0)\n",
    "print(lole)"
   ]
  },
  {
   "cell_type": "markdown",
   "metadata": {},
   "source": [
    "# Simulate data\n",
    "\n",
    "\n"
   ]
  },
  {
   "cell_type": "code",
   "execution_count": 7,
   "metadata": {},
   "outputs": [],
   "source": [
    "import numpy as np\n",
    "import pandas as pd\n",
    "\n",
    "from psrmodels.time_collapsed import BivariateHindcastMargin as tc_model\n",
    "from psrmodels.time_collapsed import ConvGenDistribution as tc_convgen\n",
    "\n",
    "from psrmodels.time_dependent import BivariateHindcastMargin as td_model\n",
    "from psrmodels.time_dependent import ConvGenDistribution as td_convgen\n",
    "\n",
    "# create toy demand and wind data with 100 observations\n",
    "np.random.seed(1)\n",
    "\n",
    "# create toy generator data\n",
    "\n",
    "gens =  pd.DataFrame({\"Capacity\": ListofCap, \"Availability\": ListofAva})\n",
    "\n",
    "convgen_dists = [tc_convgen(gens),tc_convgen(gens)]\n",
    "\n",
    "# now, create a time-sequential model\n",
    "\n",
    "# first, create time-sequential generators. We need to add a 'TTR' (time to repair) column to our generator data\n",
    "gens[\"TTR\"] = 50 #50 hours to repair on average\n",
    "td_convgen_dists = [td_convgen(gens),td_convgen(gens)]\n"
   ]
  },
  {
   "cell_type": "markdown",
   "metadata": {},
   "source": [
    "# a. Simulate data for OVERALL 7 years\n"
   ]
  },
  {
   "cell_type": "code",
   "execution_count": 8,
   "metadata": {},
   "outputs": [],
   "source": [
    "# Simulate all year data\n",
    "\n",
    "model2 = td_model(demand=demand_twoarea,renewables=wind_twoarea,gen_dists=td_convgen_dists)\n",
    "n_sim=1000\n",
    "sim_data = model2.simulate_post_itc(n_sim=n_sim,c=0,policy=\"veto\")"
   ]
  },
  {
   "cell_type": "code",
   "execution_count": 9,
   "metadata": {},
   "outputs": [],
   "source": [
    "# Simulate One year data EFC:\n",
    "EFC=2755\n",
    "EFCdem=demand_twoarea-EFC\n",
    "EFCwind=np.zeros(shape=EFCdem.shape)\n",
    "\n",
    "model2 = td_model(demand=EFCdem,renewables=EFCwind,gen_dists=td_convgen_dists)\n",
    "\n",
    "#use 1000,2000,3000,5000,10000\n",
    "n_sim=1000\n",
    "sim_data_EFC = model2.simulate_post_itc(n_sim=n_sim,c=0,policy=\"veto\")"
   ]
  },
  {
   "cell_type": "markdown",
   "metadata": {},
   "source": [
    "# a. EU distribution for Overall 7 years\n"
   ]
  },
  {
   "cell_type": "code",
   "execution_count": 10,
   "metadata": {
    "scrolled": true
   },
   "outputs": [],
   "source": [
    "EU=[0]*n_sim*7\n",
    "for i in range(n_sim*7):\n",
    "    tempEU=0\n",
    "    for j in range(3360):\n",
    "        tempEU+= -min(0,sim_data[3360*i+j][0])\n",
    "    EU[i]=tempEU\n",
    "\n",
    "EUdis=sorted(EU)\n",
    "#print(EUdis)"
   ]
  },
  {
   "cell_type": "code",
   "execution_count": 11,
   "metadata": {},
   "outputs": [],
   "source": [
    "# EUdis_EFC using EFC\n",
    "EU_EFC=[0]*n_sim*7\n",
    "for i in range(n_sim*7):\n",
    "    tempEU=0\n",
    "    for j in range(3360):\n",
    "        tempEU+= -min(0,sim_data_EFC[3360*i+j][0])\n",
    "    EU_EFC[i]=tempEU\n",
    "\n",
    "\n",
    "EUdis_EFC=sorted(EU_EFC)"
   ]
  },
  {
   "cell_type": "markdown",
   "metadata": {},
   "source": [
    "# Calculate EFC using EEU\n",
    "\n",
    "\n"
   ]
  },
  {
   "cell_type": "code",
   "execution_count": 12,
   "metadata": {},
   "outputs": [
    {
     "name": "stdout",
     "output_type": "stream",
     "text": [
      "EEU OVERALL is:  3342.001171206211\n"
     ]
    }
   ],
   "source": [
    "###Calculate EEU which is the average EU \n",
    "EEU=np.sum(EUdis)/len(EUdis)\n",
    "\n",
    "print('EEU OVERALL is: ',EEU)"
   ]
  },
  {
   "cell_type": "code",
   "execution_count": 13,
   "metadata": {},
   "outputs": [
    {
     "name": "stdout",
     "output_type": "stream",
     "text": [
      "EEU (using EFC 2755 ) is 3521.813103100166\n"
     ]
    }
   ],
   "source": [
    "EEU_EFC=np.sum(EU_EFC)/len(EU_EFC)\n",
    "print('EEU (using EFC',EFC,') is', EEU_EFC)"
   ]
  },
  {
   "cell_type": "code",
   "execution_count": 14,
   "metadata": {},
   "outputs": [
    {
     "data": {
      "image/png": "[encoded data removed]",
      "text/plain": [
       "<Figure size 432x288 with 1 Axes>"
      ]
     },
     "metadata": {
      "needs_background": "light"
     },
     "output_type": "display_data"
    }
   ],
   "source": [
    "#plot the mean EU in a year using different number of simulations.\n",
    "\n",
    "import matplotlib.pyplot as plt\n",
    "numofsim=[10,50,100,200,400,600,800,1000]\n",
    "EEUmean_mc=[3720,3357,3231,3385,3384,3456,3388,3342]\n",
    "EEUmean_real=[3316.2]*8\n",
    "\n",
    "\n",
    "plt.plot(numofsim,EEUmean_mc,label='Mean EU using MC simulations')\n",
    "plt.plot(numofsim,EEUmean_real,\"r\",label='EEU value')\n",
    "plt.title('Energy unserved by monte carlo simulations')\n",
    "plt.xlabel('number of simulations')\n",
    "plt.ylabel('Energy Unserved')\n",
    "plt.legend()\n",
    "plt.show()"
   ]
  },
  {
   "cell_type": "markdown",
   "metadata": {},
   "source": [
    "# Calculate EFC using the probability of no shortfall\n",
    "\n",
    "\n"
   ]
  },
  {
   "cell_type": "code",
   "execution_count": 15,
   "metadata": {},
   "outputs": [
    {
     "name": "stdout",
     "output_type": "stream",
     "text": [
      "The probability of no shortfall in Year 2007-2008 is: 0.362\n"
     ]
    }
   ],
   "source": [
    "ProbofnoEU=0\n",
    "for i in range(len(EUdis)):\n",
    "    if(EUdis[i]==0):\n",
    "        ProbofnoEU+=1\n",
    "ProbofnoEU=ProbofnoEU/len(EUdis)\n",
    "\n",
    "print('The probability of no shortfall in Year 2007-2008 is:', ProbofnoEU )\n",
    "\n"
   ]
  },
  {
   "cell_type": "code",
   "execution_count": 16,
   "metadata": {},
   "outputs": [
    {
     "name": "stdout",
     "output_type": "stream",
     "text": [
      "The probability of no shortfall (EFC=3050) is: 0.31114285714285717\n"
     ]
    }
   ],
   "source": [
    "ProbofnoEU_EFC=0\n",
    "for i in range(len(EUdis_EFC)):\n",
    "    if(EUdis_EFC[i]==0):\n",
    "        ProbofnoEU_EFC+=1\n",
    "ProbofnoEU_EFC=ProbofnoEU_EFC/len(EUdis_EFC)\n",
    "\n",
    "print('The probability of no shortfall (EFC=3050) is:', ProbofnoEU_EFC )"
   ]
  },
  {
   "cell_type": "markdown",
   "metadata": {},
   "source": [
    "# Calculate EFC using the 90th\n",
    "the upper 90th percentile of the distribution of energy unserved"
   ]
  },
  {
   "cell_type": "markdown",
   "metadata": {},
   "source": [
    "Calculate the upper 90th percentile of the distribution of energy unserved"
   ]
  },
  {
   "cell_type": "code",
   "execution_count": 17,
   "metadata": {},
   "outputs": [
    {
     "name": "stdout",
     "output_type": "stream",
     "text": [
      "the 90th upper energy unserved is:  10017.704191320387\n"
     ]
    }
   ],
   "source": [
    "## Using Year 2007 as simulation\n",
    "\n",
    "\n",
    "n=int(len(EUdis)/10)\n",
    "up90=EUdis[len(EUdis)-n]\n",
    "\n",
    "print('the 90th upper energy unserved is: ',  up90)\n"
   ]
  },
  {
   "cell_type": "code",
   "execution_count": 18,
   "metadata": {},
   "outputs": [
    {
     "name": "stdout",
     "output_type": "stream",
     "text": [
      "the 90th upper energy unserved using EFC is:  10016.511981981908\n"
     ]
    }
   ],
   "source": [
    "n=int(len(EUdis)/10)\n",
    "up90_EFC=EUdis_EFC[len(EUdis_EFC)-n]\n",
    "print('the 90th upper energy unserved using EFC is: ', up90_EFC)"
   ]
  },
  {
   "cell_type": "markdown",
   "metadata": {},
   "source": [
    "# Plot log(P(EU>x)) against x.\n"
   ]
  },
  {
   "cell_type": "code",
   "execution_count": 19,
   "metadata": {
    "scrolled": false
   },
   "outputs": [
    {
     "name": "stdout",
     "output_type": "stream",
     "text": [
      "The probability of no shortfall is: 0.362\n"
     ]
    },
    {
     "data": {
      "image/png": "[encoded data removed]",
      "text/plain": [
       "<Figure size 432x288 with 1 Axes>"
      ]
     },
     "metadata": {
      "needs_background": "light"
     },
     "output_type": "display_data"
    }
   ],
   "source": [
    "import math\n",
    "import matplotlib.pyplot as plt\n",
    "\n",
    "x=EUdis\n",
    "ProbofnoEU=0\n",
    "for i in range(len(EUdis)):\n",
    "    if(EUdis[i]==0):\n",
    "        ProbofnoEU+=1\n",
    "ProbofnoEU=ProbofnoEU/len(EUdis)\n",
    "\n",
    "print('The probability of no shortfall is:', ProbofnoEU )\n",
    "\n",
    "P=[0]*len(EUdis)\n",
    "for i in range(len(EUdis)):\n",
    "    if EUdis[i]==0:\n",
    "        P[i]= 1-ProbofnoEU\n",
    "    else:\n",
    "        P[i]= 1/len(EUdis)*(len(EUdis)-i)\n",
    "\n",
    "\n",
    "plt.plot(x,P)\n",
    "plt.title('P(EU>x) against x')\n",
    "plt.xlabel('$x$')\n",
    "plt.ylabel('$\\mathbb{P}(EU>x)$')\n",
    "plt.show()"
   ]
  },
  {
   "cell_type": "code",
   "execution_count": 20,
   "metadata": {},
   "outputs": [
    {
     "data": {
      "image/png": "[encoded data removed]",
      "text/plain": [
       "<Figure size 432x288 with 1 Axes>"
      ]
     },
     "metadata": {
      "needs_background": "light"
     },
     "output_type": "display_data"
    }
   ],
   "source": [
    "x=EUdis\n",
    "logP=[0]*len(EUdis)\n",
    "for i in range(len(EUdis)):\n",
    "    if EUdis[i]==0:\n",
    "        logP[i]= math.log(1-ProbofnoEU)\n",
    "    else:\n",
    "        logP[i]=math.log(1/len(EUdis)*(len(EUdis)-i))\n",
    "    \n",
    "plt.plot(x,logP)\n",
    "plt.title('log(P(EU>x)) against x')\n",
    "plt.show()"
   ]
  },
  {
   "cell_type": "code",
   "execution_count": 21,
   "metadata": {},
   "outputs": [
    {
     "name": "stdout",
     "output_type": "stream",
     "text": [
      "27587.734050753097\n"
     ]
    }
   ],
   "source": [
    "n=round(0.99*len(EUdis))\n",
    "print(EUdis[n])"
   ]
  },
  {
   "cell_type": "markdown",
   "metadata": {},
   "source": [
    "# Value at risk and CVaR\n",
    "\n",
    "\n"
   ]
  },
  {
   "cell_type": "code",
   "execution_count": 22,
   "metadata": {
    "scrolled": false
   },
   "outputs": [
    {
     "name": "stdout",
     "output_type": "stream",
     "text": [
      "p value :  [0.01, 0.05, 0.1, 0.15, 0.2, 0.25, 0.3, 0.35, 0.4, 0.45, 0.5, 0.55, 0.6, 0.65, 0.7, 0.75, 0.8, 0.85, 0.9, 0.95, 1.0]\n",
      "\n",
      "VaR :   [27587.734050753097, 15060.921576576395, 10017.704191320387, 7171.369234234095, 5395.032048768895, 4144.876378840396, 3049.854363786595, 2270.374049861195, 1652.6270376616958, 1190.385292005194, 748.6586418295992, 429.56274774769554, 184.7391891892039, 0, 0, 0, 0, 0, 0, 0, 0]\n",
      "\n",
      "CVaR :  [40385.2863925531, 23716.72255940067, 17958.67558794927, 14780.95588718283, 12639.663928966653, 11052.52804160129, 9813.685139488236, 8792.85422318461, 7938.596650455845, 7215.532499924388, 6588.152191094955, 6042.391754520955, 5564.242267876974, 5141.5402633942185, 4774.287387437489, 4456.001561608323, 4177.5014640078025, 3931.7660837720496, 3713.3346346736025, 3517.8959696907814, 3342.0011712062424]\n"
     ]
    },
    {
     "data": {
      "image/png": "[encoded data removed]",
      "text/plain": [
       "<Figure size 432x288 with 1 Axes>"
      ]
     },
     "metadata": {
      "needs_background": "light"
     },
     "output_type": "display_data"
    }
   ],
   "source": [
    "#VaR\n",
    "x=[0.01]\n",
    "for i in range(1,21):\n",
    "    x.append(5*i/100)\n",
    "#x=[0.01,0.05,0.10,...,1]\n",
    "\n",
    "VaR=[]\n",
    "CVaR=[]\n",
    "for k in x:\n",
    "    VaR.append(EUdis[int((1-k)*len(EUdis))])\n",
    "    sum=0\n",
    "    for j in range(int(k*len(EUdis))):\n",
    "        sum+=EUdis[len(EUdis)-j-1]\n",
    "    CVaR.append(sum/int(k*len(EUdis)))\n",
    "\n",
    "# for k in x:\n",
    "#     VaR.append(EUdis[int((k)*len(EUdis))-1])\n",
    "#     sum=0\n",
    "#     for j in range(int(k*len(EUdis))):\n",
    "#         sum+=EUdis[j]\n",
    "#     CVaR.append(sum/int(k*len(EUdis)))\n",
    "\n",
    "print('p value : ', x)\n",
    "print('')\n",
    "print('VaR :  ', VaR)\n",
    "print('')\n",
    "print('CVaR : ', CVaR)\n",
    "\n",
    "\n",
    "plt.plot(x,VaR,\"r\",label='VaR')\n",
    "plt.plot(x,CVaR,\"b\",label='CVaR')\n",
    "plt.title('VaR and CVaR')\n",
    "plt.xlabel('$p$ value')\n",
    "plt.ylabel('EU')\n",
    "plt.legend()\n",
    "plt.show()"
   ]
  },
  {
   "cell_type": "code",
   "execution_count": 23,
   "metadata": {
    "scrolled": true
   },
   "outputs": [
    {
     "data": {
      "image/png": "[encoded data removed]",
      "text/plain": [
       "<Figure size 432x288 with 1 Axes>"
      ]
     },
     "metadata": {
      "needs_background": "light"
     },
     "output_type": "display_data"
    }
   ],
   "source": [
    "#for checking\n",
    "#inverse of P(EU>x) against x\n",
    "\n",
    "plt.plot(P,EUdis,label='Inverse of P(EU>x) against x')\n",
    "plt.plot(x,VaR,\"r\",label='VaR')\n",
    "plt.title('VaR calculation')\n",
    "plt.xlabel('$p$ value')\n",
    "plt.ylabel('EU')\n",
    "plt.legend()\n",
    "plt.show()"
   ]
  },
  {
   "cell_type": "markdown",
   "metadata": {},
   "source": [
    "# b. Simulate data for One Year\n"
   ]
  },
  {
   "cell_type": "markdown",
   "metadata": {},
   "source": [
    "This part is used to simulate data for one historical year. Run this part of the code \"b\" instead of \"a\" would generate the simulated data for one year instead of the 7 years."
   ]
  },
  {
   "cell_type": "code",
   "execution_count": 24,
   "metadata": {},
   "outputs": [],
   "source": [
    "# # Simulate One year data\n",
    "\n",
    "# model3 = td_model(demand=demand_sepyear[0],renewables=wind_sepyear[0],gen_dists=td_convgen_dists)\n",
    "# n_sim=10000\n",
    "# sim_data_oneyear = model3.simulate_post_itc(n_sim=n_sim,c=0,policy=\"veto\")"
   ]
  },
  {
   "cell_type": "code",
   "execution_count": 25,
   "metadata": {},
   "outputs": [],
   "source": [
    "# # Simulate One year data EFC:\n",
    "# EFC=3050\n",
    "# EFCdem=demand_sepyear[0]-EFC\n",
    "# EFCwind=np.zeros(shape=(3360,2))\n",
    "\n",
    "# model2 = td_model(demand=EFCdem,renewables=EFCwind,gen_dists=td_convgen_dists)\n",
    "\n",
    "# #use 1000,2000,3000,5000,10000\n",
    "# n_sim=10000\n",
    "# sim_data_EFC = model2.simulate_post_itc(n_sim=n_sim,c=0,policy=\"veto\")"
   ]
  },
  {
   "cell_type": "markdown",
   "metadata": {},
   "source": [
    "# b. EU distribution for one year\n"
   ]
  },
  {
   "cell_type": "code",
   "execution_count": 26,
   "metadata": {
    "scrolled": true
   },
   "outputs": [],
   "source": [
    "# # EUdis using wind generations\n",
    "\n",
    "# EU=[0]*n_sim\n",
    "# for i in range(n_sim):\n",
    "#     tempEU=0\n",
    "#     for j in range(3360):\n",
    "#         tempEU+= -min(0,sim_data_oneyear[3360*i+j][0])\n",
    "#     EU[i]=tempEU\n",
    "\n",
    "# EUdis=sorted(EU)\n",
    "# #print(EUdis)"
   ]
  },
  {
   "cell_type": "code",
   "execution_count": 27,
   "metadata": {},
   "outputs": [],
   "source": [
    "# # EUdis_EFC using EFC\n",
    "# EU_EFC=[0]*n_sim\n",
    "# for i in range(n_sim):\n",
    "#     tempEU=0\n",
    "#     for j in range(3360):\n",
    "#         tempEU+= -min(0,sim_data_EFC[3360*i+j][0])\n",
    "#     EU_EFC[i]=tempEU\n",
    "\n",
    "\n",
    "# EUdis_EFC=sorted(EU_EFC)"
   ]
  }
 ],
 "metadata": {
  "kernelspec": {
   "display_name": "Python 3",
   "language": "python",
   "name": "python3"
  },
  "language_info": {
   "codemirror_mode": {
    "name": "ipython",
    "version": 3
   },
   "file_extension": ".py",
   "mimetype": "text/x-python",
   "name": "python",
   "nbconvert_exporter": "python",
   "pygments_lexer": "ipython3",
   "version": "3.7.6"
  }
 },
 "nbformat": 4,
 "nbformat_minor": 4
}
